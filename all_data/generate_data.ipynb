{
 "cells": [
  {
   "cell_type": "code",
   "execution_count": 12,
   "metadata": {
    "collapsed": false
   },
   "outputs": [],
   "source": [
    "import numpy as np\n",
    "aa = np.random.randint(0, 100, size=[2000, 10])\n",
    "bb = []\n",
    "for i in aa:\n",
    "    j = i.tolist()\n",
    "    if j not in bb:\n",
    "        bb.append(j)\n",
    "    if len(bb) == 1024:\n",
    "        break\n",
    "\n",
    "with open('train_data', 'wb') as fd:\n",
    "    for i in bb:\n",
    "        fd.write(' '.join([str(j) for j in i]) + '\\n')"
   ]
  },
  {
   "cell_type": "code",
   "execution_count": 13,
   "metadata": {
    "collapsed": false
   },
   "outputs": [
    {
     "name": "stdout",
     "output_type": "stream",
     "text": [
      "10240.0 total words with 103 uniques\n"
     ]
    }
   ],
   "source": [
    "import sys\n",
    "sys.path.append('../')\n",
    "from helper import Vocab\n",
    "from helper import flatten\n",
    "\n",
    "vocab = Vocab()\n",
    "word_list = flatten([[str(j) for j in i] for i in bb])\n",
    "vocab.construct(word_list)\n",
    "vocab.save_vocab('vocab')\n"
   ]
  },
  {
   "cell_type": "code",
   "execution_count": 9,
   "metadata": {
    "collapsed": false
   },
   "outputs": [
    {
     "name": "stdout",
     "output_type": "stream",
     "text": [
      "asdfjkl\n"
     ]
    }
   ],
   "source": [
    "print('asdf'+ 'jkl')"
   ]
  },
  {
   "cell_type": "code",
   "execution_count": null,
   "metadata": {
    "collapsed": true
   },
   "outputs": [],
   "source": []
  }
 ],
 "metadata": {
  "kernelspec": {
   "display_name": "Python 2",
   "language": "python",
   "name": "python2"
  },
  "language_info": {
   "codemirror_mode": {
    "name": "ipython",
    "version": 2
   },
   "file_extension": ".py",
   "mimetype": "text/x-python",
   "name": "python",
   "nbconvert_exporter": "python",
   "pygments_lexer": "ipython2",
   "version": "2.7.11"
  }
 },
 "nbformat": 4,
 "nbformat_minor": 0
}
